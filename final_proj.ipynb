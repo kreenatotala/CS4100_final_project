{
 "cells": [
  {
   "cell_type": "markdown",
   "metadata": {},
   "source": [
    "### Preprocessing "
   ]
  },
  {
   "cell_type": "code",
   "execution_count": 1,
   "metadata": {},
   "outputs": [
    {
     "name": "stderr",
     "output_type": "stream",
     "text": [
      "Neither CUDA nor MPS are available - defaulting to CPU. Note: This module is much faster with a GPU.\n",
      "Downloading detection model, please wait. This may take several minutes depending upon your network connection.\n"
     ]
    },
    {
     "name": "stdout",
     "output_type": "stream",
     "text": [
      "Progress: |██████████████████████████████████████████████████| 100.0% Complete"
     ]
    },
    {
     "name": "stderr",
     "output_type": "stream",
     "text": [
      "Downloading recognition model, please wait. This may take several minutes depending upon your network connection.\n"
     ]
    },
    {
     "name": "stdout",
     "output_type": "stream",
     "text": [
      "Progress: |██████████████████████████████████████████████████| 100.0% Complete"
     ]
    }
   ],
   "source": [
    "import os\n",
    "import xml.etree.ElementTree as ET\n",
    "\n",
    "def convert_to_yolo_format(bbox, img_size, class_id=0):\n",
    "    \"\"\"\n",
    "    Convert bbox from Pascal VOC format [xmin, ymin, xmax, ymax] to YOLO format.\n",
    "    \"\"\"\n",
    "    dw = 1. / img_size[0]\n",
    "    dh = 1. / img_size[1]\n",
    "    x = (bbox[0] + bbox[2]) / 2.0\n",
    "    y = (bbox[1] + bbox[3]) / 2.0\n",
    "    w = bbox[2] - bbox[0]\n",
    "    h = bbox[3] - bbox[1]\n",
    "    x = x * dw\n",
    "    w = w * dw\n",
    "    y = y * dh\n",
    "    h = h * dh\n",
    "    return f\"{class_id} {x:.6f} {y:.6f} {w:.6f} {h:.6f}\"\n",
    "\n",
    "def parse_annotation(xml_file, image_folder):\n",
    "    \"\"\"\n",
    "    Parse the XML file to get the bounding box coordinates and write them in YOLO format.\n",
    "    \"\"\"\n",
    "    tree = ET.parse(xml_file)\n",
    "    root = tree.getroot()\n",
    "    filename = root.find('filename').text\n",
    "    image_path = os.path.join(image_folder, filename)\n",
    "    img_size = cv2.imread(image_path).shape\n",
    "    \n",
    "    boxes = []\n",
    "    for obj in root.iter('object'):\n",
    "        class_id = 0  # TODO: Set the correct class ID if you have multiple classes\n",
    "        xmlbox = obj.find('bndbox')\n",
    "        bbox = (\n",
    "            int(xmlbox.find('xmin').text),\n",
    "            int(xmlbox.find('ymin').text),\n",
    "            int(xmlbox.find('xmax').text),\n",
    "            int(xmlbox.find('ymax').text),\n",
    "        )\n",
    "        boxes.append(convert_to_yolo_format(bbox, img_size, class_id))\n",
    "    return filename, boxes\n",
    "\n",
    "def save_yolo_annotations(annotations_path, image_folder, output_path):\n",
    "    \"\"\"\n",
    "    Convert and save the annotations in YOLO format.\n",
    "    \"\"\"\n",
    "    for xml_file in os.listdir(annotations_path):\n",
    "        if xml_file.endswith('.xml'):\n",
    "            xml_path = os.path.join(annotations_path, xml_file)\n",
    "            filename, boxes = parse_annotation(xml_path, image_folder)\n",
    "            \n",
    "            # Remove image extension and add .txt extension\n",
    "            base_filename = os.path.splitext(filename)[0]\n",
    "            output_txt_path = os.path.join(output_path, f\"{base_filename}.txt\")\n",
    "            \n",
    "            # Write the YOLO formatted bounding boxes to a .txt file\n",
    "            with open(output_txt_path, 'w') as file:\n",
    "                for box in boxes:\n",
    "                    file.write(box + \"\\n\")\n",
    "\n",
    "# Paths to your dataset\n",
    "annotations_path = 'archive/annotations'\n",
    "image_folder = 'archive/images'\n",
    "output_path = 'archive/processed_images'\n",
    "\n",
    "# Convert and save annotations in YOLO format\n",
    "save_yolo_annotations(annotations_path, image_folder, output_path)\n"
   ]
  },
  {
   "cell_type": "markdown",
   "metadata": {},
   "source": []
  },
  {
   "cell_type": "code",
   "execution_count": 38,
   "metadata": {},
   "outputs": [
    {
     "name": "stdout",
     "output_type": "stream",
     "text": [
      "\u001b[31m\u001b[1mrequirements:\u001b[0m Ultralytics requirements ['gitpython>=3.1.30', 'pillow>=10.3.0', 'wheel>=0.38.0'] not found, attempting AutoUpdate...\n"
     ]
    },
    {
     "name": "stderr",
     "output_type": "stream",
     "text": [
      "Using cache found in /Users/prayusishah/.cache/torch/hub/ultralytics_yolov5_master\n"
     ]
    },
    {
     "name": "stdout",
     "output_type": "stream",
     "text": [
      "Requirement already satisfied: gitpython>=3.1.30 in /opt/anaconda3/lib/python3.8/site-packages (3.1.43)\n",
      "Requirement already satisfied: pillow>=10.3.0 in /opt/anaconda3/lib/python3.8/site-packages (10.3.0)\n",
      "Requirement already satisfied: wheel>=0.38.0 in /opt/anaconda3/lib/python3.8/site-packages (0.43.0)\n",
      "Requirement already satisfied: gitdb<5,>=4.0.1 in /opt/anaconda3/lib/python3.8/site-packages (from gitpython>=3.1.30) (4.0.11)\n",
      "Requirement already satisfied: smmap<6,>=3.0.1 in /opt/anaconda3/lib/python3.8/site-packages (from gitdb<5,>=4.0.1->gitpython>=3.1.30) (5.0.1)\n",
      "\n",
      "\u001b[31m\u001b[1mrequirements:\u001b[0m AutoUpdate success ✅ 5.0s, installed 3 packages: ['gitpython>=3.1.30', 'pillow>=10.3.0', 'wheel>=0.38.0']\n",
      "\u001b[31m\u001b[1mrequirements:\u001b[0m ⚠️ \u001b[1mRestart runtime or rerun command for updates to take effect\u001b[0m\n",
      "\n"
     ]
    },
    {
     "name": "stderr",
     "output_type": "stream",
     "text": [
      "YOLOv5 🚀 2024-4-8 Python-3.12.1 torch-2.2.2 CPU\n",
      "\n",
      "Fusing layers... \n",
      "YOLOv5s summary: 213 layers, 7225885 parameters, 0 gradients\n",
      "Adding AutoShape... \n",
      "Neither CUDA nor MPS are available - defaulting to CPU. Note: This module is much faster with a GPU.\n"
     ]
    }
   ],
   "source": [
    "import os\n",
    "import cv2\n",
    "import torch\n",
    "import numpy as np\n",
    "from easyocr import Reader\n",
    "\n",
    "\n",
    "# Step 2: Detect license plates in images using a pre-trained YOLO model\n",
    "model = torch.hub.load('ultralytics/yolov5', 'yolov5s', pretrained=True)\n",
    "\n",
    "def detect_license_plates(image_directory):\n",
    "    images, labels, cropped_plates = [], [], []\n",
    "    reader = Reader(['en'])\n",
    "\n",
    "    for filename in os.listdir(image_directory):\n",
    "        if filename.endswith(('.png', '.jpg', '.jpeg')):\n",
    "            img_path = os.path.join(image_directory, filename)\n",
    "            img = cv2.imread(img_path)\n",
    "            results = model(img)\n",
    "            detections = results.xyxy[0]\n",
    "\n",
    "            for *xyxy, conf, cls in detections:\n",
    "                x_min, y_min, x_max, y_max = map(int, xyxy)\n",
    "                cropped_plate = img[y_min:y_max, x_min:x_max]\n",
    "                cropped_plates.append(cropped_plate)\n",
    "\n",
    "                # Step 3: Optional - Use EasyOCR to recognize text from cropped license plates\n",
    "                ocr_result = reader.readtext(cropped_plate)\n",
    "                label = max(ocr_result, key=lambda result: result[2])[1] if ocr_result else 'N/A'\n",
    "                labels.append(label)\n",
    "\n",
    "            images.append(img)\n",
    "\n",
    "    return images, labels, cropped_plates\n",
    "\n",
    "# Assume you have a directory of images to process\n",
    "image_directory = 'archive/images'\n",
    "images, labels, cropped_plates = detect_license_plates(image_directory)\n",
    "\n"
   ]
  },
  {
   "cell_type": "code",
   "execution_count": 40,
   "metadata": {},
   "outputs": [
    {
     "ename": "SyntaxError",
     "evalue": "invalid syntax (511807831.py, line 1)",
     "output_type": "error",
     "traceback": [
      "\u001b[0;36m  Cell \u001b[0;32mIn[40], line 1\u001b[0;36m\u001b[0m\n\u001b[0;31m    python val.py --weights path/to/your/model.pt --data data.yaml --img 640\u001b[0m\n\u001b[0m           ^\u001b[0m\n\u001b[0;31mSyntaxError\u001b[0m\u001b[0;31m:\u001b[0m invalid syntax\n"
     ]
    }
   ],
   "source": [
    "python val.py --weights path/to/your/model.pt --data data.yaml --img 640"
   ]
  }
 ],
 "metadata": {
  "kernelspec": {
   "display_name": "Python 3",
   "language": "python",
   "name": "python3"
  },
  "language_info": {
   "codemirror_mode": {
    "name": "ipython",
    "version": 3
   },
   "file_extension": ".py",
   "mimetype": "text/x-python",
   "name": "python",
   "nbconvert_exporter": "python",
   "pygments_lexer": "ipython3",
   "version": "3.9.1"
  }
 },
 "nbformat": 4,
 "nbformat_minor": 2
}
